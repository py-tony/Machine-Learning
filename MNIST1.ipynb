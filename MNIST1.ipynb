{
 "cells": [
  {
   "cell_type": "code",
   "execution_count": 1,
   "metadata": {},
   "outputs": [],
   "source": [
    "#importing the necessary tools \n",
    "\n",
    "import numpy as np\n",
    "\n",
    "import matplotlib.pyplot as plt\n",
    "from sklearn.datasets import load_digits\n",
    "digits = load_digits() #load the dataset"
   ]
  },
  {
   "cell_type": "code",
   "execution_count": 2,
   "metadata": {},
   "outputs": [
    {
     "name": "stdout",
     "output_type": "stream",
     "text": [
      "Image Data Shape (1797, 64)\n",
      "Label Data Shape (1797,)\n"
     ]
    }
   ],
   "source": [
    "# Print to show there are 1797 images (8 by 8 images for a dimensionality of 64)\n",
    "print(\"Image Data Shape\" , digits.data.shape)\n",
    "\n",
    "# Print to show there are 1797 labels (integers from 0-9)\n",
    "print(\"Label Data Shape\", digits.target.shape)"
   ]
  },
  {
   "cell_type": "code",
   "execution_count": 3,
   "metadata": {},
   "outputs": [
    {
     "data": {
      "image/png": "[encoded data removed]",
      "text/plain": [
       "<Figure size 1440x288 with 5 Axes>"
      ]
     },
     "metadata": {
      "needs_background": "light"
     },
     "output_type": "display_data"
    }
   ],
   "source": [
    "#plot a sample of the dataset(as a picture)\n",
    "plt.figure(figsize=(20,4))\n",
    "for index, (image, label) in enumerate(zip(digits.data[0:5], digits.target[0:5])):\n",
    "    plt.subplot(1, 5, index + 1)\n",
    "    plt.imshow(np.reshape(image, (8,8)), cmap=plt.cm.gray)\n",
    "    plt.title('Training: %i\\n' % label, fontsize = 20)"
   ]
  },
  {
   "cell_type": "markdown",
   "metadata": {},
   "source": [
    "## ● Split the data into a training, development and test set"
   ]
  },
  {
   "cell_type": "code",
   "execution_count": 4,
   "metadata": {},
   "outputs": [],
   "source": [
    "#preparing the data for spliting by assing the \n",
    "X = digits.data\n",
    "y = digits.target\n"
   ]
  },
  {
   "cell_type": "code",
   "execution_count": 5,
   "metadata": {},
   "outputs": [],
   "source": [
    "#to divide the dataset into three sample (train,dev,test) we're going to take advantage of the sklearn.model_selection class' train_test_split method\n",
    "\n",
    "from sklearn.model_selection import train_test_split\n",
    "X_train, X_test, y_train, y_test = train_test_split(X, y, test_size = 0.40,random_state=42 )\n",
    "X_dev, X_test, y_dev, y_test = train_test_split(X_test, y_test, test_size = 0.50)"
   ]
  },
  {
   "cell_type": "code",
   "execution_count": 6,
   "metadata": {},
   "outputs": [
    {
     "data": {
      "text/plain": [
       "(0.5998887033945465, 0.2003338898163606, 0.19977740678909292)"
      ]
     },
     "execution_count": 6,
     "metadata": {},
     "output_type": "execute_result"
    }
   ],
   "source": [
    "#check the portion using our traditional percentage method\n",
    "X_train.size/X.size,  X_test.size/X.size, X_dev.size/X.size"
   ]
  },
  {
   "cell_type": "code",
   "execution_count": 7,
   "metadata": {},
   "outputs": [
    {
     "data": {
      "text/plain": [
       "array([7, 6, 0, ..., 2, 7, 1])"
      ]
     },
     "execution_count": 7,
     "metadata": {},
     "output_type": "execute_result"
    }
   ],
   "source": [
    "y_train"
   ]
  },
  {
   "cell_type": "markdown",
   "metadata": {},
   "source": [
    "## ● We're going to try and experiment with different algorith then we will Choose two among those models.\n",
    "\n",
    "* To select a 2 pontential models I'm going to test 6 different models and pick two among them"
   ]
  },
  {
   "cell_type": "code",
   "execution_count": 9,
   "metadata": {},
   "outputs": [
    {
     "name": "stdout",
     "output_type": "stream",
     "text": [
      "Accuracy 1 : 0.9610027855153204\n",
      "Accuracy 2 : 0.46518105849582175\n",
      "Accuracy 3 : 0.8328690807799443\n",
      "Accuracy 4 : 0.9749303621169917\n",
      "Accuracy 5 : 0.28969359331476324\n",
      "Accuracy 6 : 0.9693593314763231\n"
     ]
    }
   ],
   "source": [
    "# load the module and necssary tool for testing the performance\n",
    "from sklearn.ensemble import AdaBoostClassifier\n",
    "from sklearn.ensemble import GradientBoostingClassifier, RandomForestClassifier\n",
    "import xgboost as xgb\n",
    "from mlxtend.classifier import EnsembleVoteClassifier\n",
    "from sklearn.model_selection import cross_val_score\n",
    "import xgboost\n",
    "from sklearn import svm, tree\n",
    "from sklearn import metrics\n",
    "\n",
    "\n",
    "\n",
    "# create a list and append 6  different models to it\n",
    "\n",
    "classifiers = []\n",
    "\n",
    "model1 = xgboost.XGBClassifier(random_state=42)\n",
    "classifiers.append(model1)\n",
    "model2 = svm.SVC(gamma='auto',random_state=42)\n",
    "classifiers.append(model2)\n",
    "model3 = tree.DecisionTreeClassifier(random_state=42)\n",
    "classifiers.append(model3)\n",
    "model4 = RandomForestClassifier(n_estimators=100, random_state=42)\n",
    "classifiers.append(model4)\n",
    "model5 = AdaBoostClassifier(n_estimators=50,random_state=42)\n",
    "classifiers.append(model5)\n",
    "model6 = GradientBoostingClassifier(n_estimators = 100,random_state=42)\n",
    "classifiers.append(model6)\n",
    "\n",
    "\n",
    "#loop through the list get the model fit the training data to it and try it with the development set\n",
    "for i,clff in enumerate(classifiers):\n",
    "    \n",
    "    clff.fit(X_train, y_train)\n",
    "    \n",
    "    print(\"Accuracy\",i+1,':',metrics.accuracy_score(y_dev, clff.predict(X_dev)))"
   ]
  },
  {
   "cell_type": "markdown",
   "metadata": {},
   "source": [
    "## for this task we gonna go with model4 and 6\n",
    "* and the reason we choose those 2 its prety obvious that they perform very well on the data that they've never seen before"
   ]
  },
  {
   "cell_type": "code",
   "execution_count": 10,
   "metadata": {},
   "outputs": [
    {
     "name": "stdout",
     "output_type": "stream",
     "text": [
      "Accuracy 1 : 0.9749303621169917\n",
      "Accuracy 2 : 0.9693593314763231\n"
     ]
    }
   ],
   "source": [
    "\n",
    "for i in enumerate([model4, model6]):\n",
    "    clff = i[1]\n",
    "    #clff.fit(X_train, y_train)\n",
    "    prediction_ = clff.predict(X_dev)\n",
    "    print(\"Accuracy\",i[0]+1,':',metrics.accuracy_score(y_dev, prediction_))"
   ]
  },
  {
   "cell_type": "markdown",
   "metadata": {},
   "source": [
    "## PARAMETER\n",
    "\n",
    "### ● For each model, we going to pick one parameter to tune, and explain why we chose that particular  parameter.\n",
    "I choose these parameters carefully and because they are relevant to type of mmodel we're gonna be working with\n",
    "one of them is \"n_estimator\" ... the in depth post about parameter by: Mathabi ben explains that \"n_estimators represents the number of trees in the forest. Usually the higher the number of trees the better to learn the data.\" find the link below for more details https://medium.com/all-things-ai/in-depth-parameter-tuning-for-random-forest-d67bb7e920d\n",
    "\n",
    "### ● Choose which value for the parameter to set for testing on the test data and why.\n",
    "\n",
    "about the values that i have selected to test the models on.. I did a pre-testing (e.i loop i range(1,100)  n_estimator = i ) and from there i picked some values where the model peforms well. but to make a good combition of the best value for each parameter we are going to use GridsearchCV from sklearn module."
   ]
  },
  {
   "cell_type": "code",
   "execution_count": 11,
   "metadata": {},
   "outputs": [],
   "source": [
    "# creating a dict with parameter and values\n",
    "param_grid = { \n",
    "    'n_estimators': [ 200, 300, 400],\n",
    "    'max_features': ['auto', 'sqrt', 'log2'],\n",
    "    'max_depth' : [10,15,20],\n",
    "    'criterion' :['gini', 'entropy']\n",
    "}"
   ]
  },
  {
   "cell_type": "code",
   "execution_count": 12,
   "metadata": {},
   "outputs": [
    {
     "data": {
      "text/plain": [
       "{'criterion': 'gini',\n",
       " 'max_depth': 15,\n",
       " 'max_features': 'log2',\n",
       " 'n_estimators': 300}"
      ]
     },
     "execution_count": 12,
     "metadata": {},
     "output_type": "execute_result"
    }
   ],
   "source": [
    "# importing gridsearch and test different parameter on the train set\n",
    "\n",
    "from sklearn.model_selection import GridSearchCV\n",
    "\n",
    "\n",
    "\n",
    "CV_rfc = GridSearchCV(estimator=model4, param_grid=param_grid, cv= 5)\n",
    "CV_rfc.fit(X_train, y_train)\n",
    "CV_rfc.best_params_ # this function returns the best combination "
   ]
  },
  {
   "cell_type": "code",
   "execution_count": 13,
   "metadata": {},
   "outputs": [
    {
     "data": {
      "text/plain": [
       "{'max_depth': 20, 'max_features': 'log2', 'n_estimators': 200}"
      ]
     },
     "execution_count": 13,
     "metadata": {},
     "output_type": "execute_result"
    }
   ],
   "source": [
    "param_grid2 = { \n",
    "    'n_estimators': [ 200, 300, 400],\n",
    "    'max_features': ['auto', 'sqrt', 'log2'],\n",
    "    'max_depth' : [10,15,20],\n",
    "    \n",
    "}\n",
    "CV_rfc = GridSearchCV(estimator=model6, param_grid=param_grid2, cv= 5)\n",
    "CV_rfc.fit(X_train, y_train)\n",
    "CV_rfc.best_params_"
   ]
  },
  {
   "cell_type": "code",
   "execution_count": 14,
   "metadata": {},
   "outputs": [
    {
     "name": "stdout",
     "output_type": "stream",
     "text": [
      "0.9749303621169917 0.9860724233983287\n"
     ]
    }
   ],
   "source": [
    "\n",
    "model4_best = RandomForestClassifier(criterion = 'gini',\n",
    "                                 max_depth = 15,\n",
    "                                 max_features = 'log2',\n",
    "                                 n_estimators = 300,\n",
    "                                 random_state = 1)\n",
    "model4_best.fit(X_train, y_train)\n",
    "pred4_best = model4_best.predict(X_dev)\n",
    "\n",
    "\n",
    "model6_best = GradientBoostingClassifier(max_depth = 20, max_features = 'log2', n_estimators = 200,random_state=1)\n",
    "model6_best.fit(X_train, y_train)\n",
    "pred6_best = model6_best.predict(X_dev)\n",
    "\n",
    "print(metrics.accuracy_score(y_dev, pred4_best),metrics.accuracy_score(y_dev, pred6_best))"
   ]
  },
  {
   "cell_type": "markdown",
   "metadata": {},
   "source": [
    "## ● Print confusion matrices for your two competitor models’ predictions on the test set."
   ]
  },
  {
   "cell_type": "code",
   "execution_count": 15,
   "metadata": {},
   "outputs": [
    {
     "name": "stdout",
     "output_type": "stream",
     "text": [
      "[[31  0  0  0  1  0  0  0  0  0]\n",
      " [ 0 45  1  0  0  0  0  0  0  0]\n",
      " [ 0  0 32  0  0  0  0  0  0  0]\n",
      " [ 0  0  0 35  0  1  0  0  1  0]\n",
      " [ 0  0  0  0 33  0  0  0  0  0]\n",
      " [ 0  0  0  0  0 42  0  0  0  0]\n",
      " [ 0  0  0  0  0  1 35  0  0  0]\n",
      " [ 0  0  0  0  0  0  0 34  0  0]\n",
      " [ 0  3  0  0  0  0  0  0 27  0]\n",
      " [ 0  0  0  0  0  0  0  1  0 36]] 0.9749303621169917\n"
     ]
    },
    {
     "data": {
      "image/png": "[encoded data removed]",
      "text/plain": [
       "<Figure size 432x288 with 2 Axes>"
      ]
     },
     "metadata": {
      "needs_background": "light"
     },
     "output_type": "display_data"
    }
   ],
   "source": [
    "from seaborn import heatmap # we going to use heatmap from seaborn module to get also a picture of our matrices\n",
    "\n",
    "matrix_ = metrics.confusion_matrix(y_dev, pred4_best)\n",
    "heatmap(matrix_)\n",
    "print(matrix_, metrics.accuracy_score(y_dev, pred4_best))"
   ]
  },
  {
   "cell_type": "code",
   "execution_count": 16,
   "metadata": {},
   "outputs": [
    {
     "name": "stdout",
     "output_type": "stream",
     "text": [
      "[[32  0  0  0  0  0  0  0  0  0]\n",
      " [ 0 46  0  0  0  0  0  0  0  0]\n",
      " [ 0  0 32  0  0  0  0  0  0  0]\n",
      " [ 0  0  0 37  0  0  0  0  0  0]\n",
      " [ 0  0  0  0 33  0  0  0  0  0]\n",
      " [ 0  1  0  0  0 41  0  0  0  0]\n",
      " [ 1  0  0  0  0  0 35  0  0  0]\n",
      " [ 0  0  0  0  0  0  0 34  0  0]\n",
      " [ 0  2  0  0  0  0  0  0 28  0]\n",
      " [ 0  0  0  0  0  0  0  1  0 36]] 0.9860724233983287\n"
     ]
    },
    {
     "data": {
      "image/png": "[encoded data removed]",
      "text/plain": [
       "<Figure size 432x288 with 2 Axes>"
      ]
     },
     "metadata": {
      "needs_background": "light"
     },
     "output_type": "display_data"
    }
   ],
   "source": [
    "\n",
    "\n",
    "matrix_ = metrics.confusion_matrix(y_dev, pred6_best)\n",
    "heatmap(matrix_)\n",
    "print(matrix_, metrics.accuracy_score(y_dev, pred6_best))"
   ]
  },
  {
   "cell_type": "markdown",
   "metadata": {},
   "source": [
    "## ● Report which classes the models struggle with the most."
   ]
  },
  {
   "cell_type": "code",
   "execution_count": 17,
   "metadata": {
    "scrolled": false
   },
   "outputs": [
    {
     "data": {
      "image/png": "[encoded data removed]",
      "text/plain": [
       "<Figure size 1152x360 with 2 Axes>"
      ]
     },
     "metadata": {
      "needs_background": "light"
     },
     "output_type": "display_data"
    }
   ],
   "source": [
    "# for our convenience we gonna bring pandas to convert to result to df and manipulate it to so to be \n",
    " \n",
    "# able to report the classes visually\n",
    "\n",
    "\n",
    "\n",
    "#we gonna count the total of accurencies of each class in the development set\n",
    "#and the total of accurencies of each class in the best predicted set\n",
    "\n",
    "#   then we gonna plot the result to see the distance between the class in the dev set and those predicted\n",
    "\n",
    "import pandas as pd\n",
    "plt.figure(figsize=(16,5)) #set a nice and big enough canvas\n",
    "\n",
    "\n",
    "# what is happening in the loop is i=ax or for graph position, pre=predicted classes for the two models and titl=title of models\n",
    "for i, pre,  titl in zip(range(2),[pred4_best, pred6_best], ['Model4\\'s prediction \\n compare to Dev set', 'Model6\\'s prediction \\n compare to Dev set']):\n",
    "    \n",
    "    ax = plt.subplot(1,2,i+1) # set the position of the graph \n",
    "    \n",
    "    #ref line 7-10 \n",
    "    pd.DataFrame(pre)[0].value_counts().sort_index().plot(ax=ax, label='Y_predict')\n",
    "    pd.DataFrame(y_dev)[0].value_counts().sort_index().plot(ax=ax,label='y_dev')\n",
    "    plt.title(titl)\n",
    "    plt.legend()\n",
    "    plt.xlabel('Target(y_dev)')\n",
    "    plt.ylabel('total observations per target')\n",
    "    \n",
    "    \n",
    "   # looking at the graphs below we we see a good harmony and flow between the predicted data and the real data\n",
    "   \n",
    "    # but looking closely one can point out that the distance between the data at index 3 is a bit bigger than the other\n",
    "    #and that both models stuggled a bit to catch the four last points."
   ]
  },
  {
   "cell_type": "markdown",
   "metadata": {},
   "source": [
    "## ● Report the accuracy, precision, recall and f1-score."
   ]
  },
  {
   "cell_type": "code",
   "execution_count": 18,
   "metadata": {},
   "outputs": [
    {
     "name": "stdout",
     "output_type": "stream",
     "text": [
      "MODEL 4 SCORE REPORTs \n",
      " \n",
      "Accuracy:0.9749303621169917 \n",
      "Precision:0.9749303621169917 \n",
      "Recall:0.9749303621169917 \n",
      "F1_score:0.9749303621169917\n"
     ]
    }
   ],
   "source": [
    "\n",
    "accu_4 = metrics.accuracy_score(y_dev, pred4_best)\n",
    "preci_4 = metrics.precision_score(y_dev, pred4_best,average='micro') # will return the total ratio of tp/(tp + fp)\n",
    "recall_4 = metrics.recall_score(y_dev, pred4_best,average='micro') \n",
    "f1_4 = metrics.f1_score(y_dev, pred4_best,average='micro')\n",
    "\n",
    "\n",
    "print(f\"MODEL 4 SCORE REPORTs \\n \\nAccuracy:{accu_4} \\nPrecision:{preci_4} \\nRecall:{recall_4} \\nF1_score:{f1_4}\")"
   ]
  },
  {
   "cell_type": "code",
   "execution_count": 19,
   "metadata": {},
   "outputs": [
    {
     "name": "stdout",
     "output_type": "stream",
     "text": [
      "MODEL 6 SCORE REPORTs \n",
      " \n",
      "Accuracy:0.9860724233983287 \n",
      "Precision:0.9860724233983287 \n",
      "Recall:0.9860724233983287 \n",
      "F1_score:0.9860724233983287\n"
     ]
    }
   ],
   "source": [
    "\n",
    "accu_6 = metrics.accuracy_score(y_dev, pred6_best)\n",
    "preci_6 = metrics.precision_score(y_dev, pred6_best,average='micro')  #will return the total ratio of tp/(tp + fp)\n",
    "recall_6 = metrics.recall_score(y_dev, pred6_best,average='micro') \n",
    "f1_6 = metrics.f1_score(y_dev, pred6_best,average='micro')\n",
    "\n",
    "\n",
    "print(f\"MODEL 6 SCORE REPORTs \\n \\nAccuracy:{accu_6} \\nPrecision:{preci_6} \\nRecall:{recall_6} \\nF1_score:{f1_6}\")"
   ]
  },
  {
   "cell_type": "markdown",
   "metadata": {},
   "source": [
    "## ● The differences in performance and report which model did the best job.s\n"
   ]
  },
  {
   "cell_type": "markdown",
   "metadata": {},
   "source": [
    "Although the final results are in favor on model 6, During traing and learning thes models performances were interchangeable. the change was due to fact that each time i had to test them i gave them new data, (where in each function i will set the \" random_state=No \" but one thing that did not change is the running time Amazingly module 4 ran 2 times faster than module 6. so having say that I will choose model4 dispite the fact that model6 performed well with dev set\n",
    "\n",
    "but wait a minute i still have the test set. \n"
   ]
  },
  {
   "cell_type": "markdown",
   "metadata": {},
   "source": [
    "\n",
    "\n",
    "pred4_test = model4_best.predict(X_test)\n",
    "\n",
    "print(metrics.accuracy_score(y_test, pred4_test))"
   ]
  },
  {
   "cell_type": "markdown",
   "metadata": {},
   "source": [
    "\n",
    "pred6_test = model6_best.predict(X_test)\n",
    "\n",
    "metrics.accuracy_score(y_test, pred6_test)"
   ]
  },
  {
   "cell_type": "markdown",
   "metadata": {},
   "source": [
    "# ?"
   ]
  },
  {
   "cell_type": "code",
   "execution_count": null,
   "metadata": {},
   "outputs": [],
   "source": []
  }
 ],
 "metadata": {
  "kernelspec": {
   "display_name": "Python 3",
   "language": "python",
   "name": "python3"
  },
  "language_info": {
   "codemirror_mode": {
    "name": "ipython",
    "version": 3
   },
   "file_extension": ".py",
   "mimetype": "text/x-python",
   "name": "python",
   "nbconvert_exporter": "python",
   "pygments_lexer": "ipython3",
   "version": "3.7.3"
  }
 },
 "nbformat": 4,
 "nbformat_minor": 2
}
